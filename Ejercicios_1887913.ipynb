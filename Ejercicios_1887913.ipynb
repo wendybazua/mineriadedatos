{
 "cells": [
  {
   "cell_type": "markdown",
   "metadata": {},
   "source": [
    "# Ejercicio 1"
   ]
  },
  {
   "cell_type": "code",
   "execution_count": null,
   "metadata": {},
   "outputs": [],
   "source": [
    "mat=1887913\n",
    "\n",
    "nombre=\"wendy\""
   ]
  },
  {
   "cell_type": "code",
   "execution_count": null,
   "metadata": {},
   "outputs": [],
   "source": [
    "con=str(mat)+\" \"+nombre\n",
    "con"
   ]
  },
  {
   "cell_type": "markdown",
   "metadata": {},
   "source": [
    "# Ejercicio 2"
   ]
  },
  {
   "cell_type": "code",
   "execution_count": 4,
   "metadata": {},
   "outputs": [
    {
     "name": "stdout",
     "output_type": "stream",
     "text": [
      "Introduce un número:4\n",
      "Introduce otro número: 5\n",
      " 1. Sumar \n",
      " 2. Restar \n",
      " 3. Multiplicar \n",
      " 4. Dividir \n",
      " 5. Cambiar numeros \n",
      " SALIR(0) 9\n",
      " 1. Sumar \n",
      " 2. Restar \n",
      " 3. Multiplicar \n",
      " 4. Dividir \n",
      " 5. Cambiar numeros \n",
      " SALIR(0) 0\n"
     ]
    }
   ],
   "source": [
    "a = int(input(\"Introduce un número:\" ))\n",
    "b = int(input(\"Introduce otro número: \"))\n",
    "c=1\n",
    "while c!=0:\n",
    "    c = int(input(\" 1. Sumar \\n 2. Restar \\n 3. Multiplicar \\n 4. Dividir \\n 5. Cambiar numeros \\n SALIR(0) \"))\n",
    "    if (c==1):\n",
    "        num=a+b\n",
    "        print(\"\\n la suma es \"+str(num))\n",
    "    if (c==2):\n",
    "        num=a-b\n",
    "        print(\"\\n la resta del primer número menos el segundo es \"+str(num))\n",
    "    if (c==3):\n",
    "        num=a*b\n",
    "        print(\"\\n la multiplicación es \"+str(num))\n",
    "    if (c==4):\n",
    "        num=a/b\n",
    "        print(\"\\n la división del primer número entre el segundo es \"+str(num))\n",
    "    if (c==5):\n",
    "        a = int(input(\"Introduce un número:\" ))\n",
    "        b = int(input(\"Introduce otro número: \"))\n",
    "        \n"
   ]
  },
  {
   "cell_type": "markdown",
   "metadata": {},
   "source": [
    "# Ejercicio 3"
   ]
  },
  {
   "cell_type": "code",
   "execution_count": 30,
   "metadata": {},
   "outputs": [
    {
     "name": "stdout",
     "output_type": "stream",
     "text": [
      "3\n",
      "6\n",
      "9\n",
      "12\n",
      "15\n",
      "18\n",
      "21\n",
      "24\n",
      "27\n",
      "30\n"
     ]
    }
   ],
   "source": [
    "lista=[]\n",
    "i=1\n",
    "for i in range(1,11):\n",
    "    mul=i*3\n",
    "    i=i+1\n",
    "    lista.append(mul)\n",
    "    print(mul)\n",
    "    \n"
   ]
  },
  {
   "cell_type": "code",
   "execution_count": 41,
   "metadata": {},
   "outputs": [],
   "source": [
    "def sumal(lista):\n",
    "    j=0\n",
    "    acum=0\n",
    "    for j in range(0,10):\n",
    "        acum=acum+lista[j]\n",
    "    print(acum)"
   ]
  },
  {
   "cell_type": "code",
   "execution_count": 42,
   "metadata": {},
   "outputs": [
    {
     "name": "stdout",
     "output_type": "stream",
     "text": [
      "165\n"
     ]
    }
   ],
   "source": [
    "sumal(lista)"
   ]
  },
  {
   "cell_type": "markdown",
   "metadata": {},
   "source": [
    "# Ejercicio 4"
   ]
  },
  {
   "cell_type": "code",
   "execution_count": null,
   "metadata": {},
   "outputs": [],
   "source": [
    "if  a > b: \n",
    "    print (a,\" > \",b)\n",
    "else:\n",
    "    print (a,\" < \",b)\n",
    "    "
   ]
  },
  {
   "cell_type": "code",
   "execution_count": 50,
   "metadata": {},
   "outputs": [
    {
     "name": "stdout",
     "output_type": "stream",
     "text": [
      "Introduce un número:10\n",
      "El número es par\n"
     ]
    }
   ],
   "source": [
    "n = int(input(\"Introduce un número:\" ))\n",
    "res=n%2\n",
    "if(res==0):\n",
    "    print(\"El número es par\")\n",
    "else:\n",
    "    print(\"El numero es impar\")\n"
   ]
  },
  {
   "cell_type": "code",
   "execution_count": 81,
   "metadata": {},
   "outputs": [
    {
     "name": "stdout",
     "output_type": "stream",
     "text": [
      "Introduce un número:60\n",
      "El número no es primo\n"
     ]
    }
   ],
   "source": [
    "w = int(input(\"Introduce un número:\" ))\n",
    "p=1\n",
    "y=2\n",
    "if(w>1):\n",
    "    while(y<w):\n",
    "        resi=w%y\n",
    "        if(resi==0):\n",
    "            y=w+1\n",
    "            p=0\n",
    "        else:\n",
    "            y=y+1 \n",
    "if(p==1):\n",
    "    print(\"El número es primo\")\n",
    "else:\n",
    "    print(\"El número no es primo\")\n",
    "        \n"
   ]
  },
  {
   "cell_type": "markdown",
   "metadata": {},
   "source": [
    "# Ejercicio 5"
   ]
  },
  {
   "cell_type": "code",
   "execution_count": 5,
   "metadata": {},
   "outputs": [
    {
     "name": "stdout",
     "output_type": "stream",
     "text": [
      "Introduce un número:5\n",
      "Introduce otro número: 0\n",
      " \n",
      " 1. Sumar \n",
      " 2. Restar \n",
      " 3. Multiplicar \n",
      " 4. Dividir \n",
      " 5.Exponente \n",
      " 6. Cambiar numeros \n",
      " SALIR(0) 5\n",
      "\n",
      " el primer número elevado al segundo es 1\n",
      " \n",
      " 1. Sumar \n",
      " 2. Restar \n",
      " 3. Multiplicar \n",
      " 4. Dividir \n",
      " 5.Exponente \n",
      " 6. Cambiar numeros \n",
      " SALIR(0) 0\n"
     ]
    }
   ],
   "source": [
    "def sumar(a,b):\n",
    "    n=a+b\n",
    "    return n\n",
    "def restar(a,b):\n",
    "    n=a-b\n",
    "    return n\n",
    "def multiplicar(a,b):\n",
    "    n=a*b\n",
    "    return n\n",
    "def dividir(a,b):\n",
    "    n=a/b\n",
    "    return n\n",
    "def exponente(a,b):\n",
    "    n=a**b\n",
    "    return n\n",
    "\n",
    "a = int(input(\"Introduce un número:\" ))\n",
    "b = int(input(\"Introduce otro número: \"))\n",
    "c=1\n",
    "while c!=0:\n",
    "    c = int(input(\" \\n 1. Sumar \\n 2. Restar \\n 3. Multiplicar \\n 4. Dividir \\n 5.Exponente \\n 6. Cambiar numeros \\n SALIR(0) \"))\n",
    "    if (c==1):\n",
    "        n=sumar(a,b)\n",
    "        print(\"\\n la suma es \"+str(n))\n",
    "    if (c==2):\n",
    "        n=restar(a,b)\n",
    "        print(\"\\n la resta del primer número menos el segundo es \"+str(n))\n",
    "    if (c==3):\n",
    "        n=multiplicar(a,b)\n",
    "        print(\"\\n la multiplicación es \"+str(n))\n",
    "    if (c==4):\n",
    "        n=dividir(a,b)\n",
    "        print(\"\\n la división del primer número entre el segundo es \"+str(n))\n",
    "    if (c==5):\n",
    "        n=exponente(a,b)\n",
    "        print(\"\\n el primer número elevado al segundo es \"+str(n))\n",
    "    if (c==6):\n",
    "        a = int(input(\"\\n Introduce un número:\" ))\n",
    "        b = int(input(\"Introduce otro número: \"))\n",
    "    \n"
   ]
  },
  {
   "cell_type": "markdown",
   "metadata": {},
   "source": [
    "# Ejercicio 6"
   ]
  },
  {
   "cell_type": "code",
   "execution_count": 14,
   "metadata": {},
   "outputs": [
    {
     "name": "stdout",
     "output_type": "stream",
     "text": [
      "<class 'float'>\n",
      "<class 'int'>\n",
      "<class 'bool'>\n",
      "<class 'complex'>\n",
      "1999\n",
      "3324\n",
      "True\n"
     ]
    }
   ],
   "source": [
    "#TUPLAS\n",
    "flotante=7.2\n",
    "print(type(flotante))\n",
    "integer=10\n",
    "print(type(integer))\n",
    "boole=False\n",
    "print(type(boole))\n",
    "comp=complex(1,2)\n",
    "print(type(comp))\n",
    "\n",
    "\n",
    "tupla1=(1999,2323,3324)\n",
    "print(tupla1[0])\n",
    "print(tupla1[len(tupla1)-1])\n",
    "\n",
    "tupla2=(1999,2323,3324,\"a\",\"b\",\"c\")\n",
    "\n",
    "print(\"b\" in tupla2)"
   ]
  },
  {
   "cell_type": "code",
   "execution_count": 40,
   "metadata": {},
   "outputs": [],
   "source": []
  },
  {
   "cell_type": "code",
   "execution_count": 83,
   "metadata": {},
   "outputs": [],
   "source": [
    "#LISTAS\n",
    "lista2=[]\n",
    "\n",
    "import random\n",
    "\n",
    "i=1\n",
    "for i in range(1,41):\n",
    "    al=random.randint(0, 100)\n",
    "    lista2.append(al)\n",
    "    #print(al)\n",
    "\n",
    "\n",
    "def paroimpar(lista2):\n",
    "    par=[]\n",
    "    impar=[]\n",
    "\n",
    "    for i in range(0,40):   \n",
    "        resi=lista2[i]%2\n",
    "        if(resi==0):\n",
    "            par.append(lista2[i])\n",
    "        else:\n",
    "            impar.append(lista2[i])\n",
    "            \n",
    "    print(par)\n",
    "    print(impar)\n",
    "    \n",
    "    np=len(par)\n",
    "    ni=len(impar)\n",
    "    \n",
    "    print(\"\\n numero de pares:\")\n",
    "    print(np)\n",
    "    print(\"\\n numero de impares:\")\n",
    "    print(ni)\n",
    "\n",
    "    par.sort()\n",
    "    par.reverse()\n",
    "    print(par)\n",
    "    impar.sort()\n",
    "    print(impar)\n",
    "\n",
    "    \n",
    "\n",
    "\n"
   ]
  },
  {
   "cell_type": "code",
   "execution_count": 84,
   "metadata": {},
   "outputs": [
    {
     "name": "stdout",
     "output_type": "stream",
     "text": [
      "[92, 88, 80, 40, 16, 42, 72, 6, 10, 86, 50, 64, 22, 36, 26, 46, 44]\n",
      "[21, 27, 19, 89, 13, 89, 93, 31, 69, 59, 9, 93, 45, 45, 7, 11, 7, 23, 45, 63, 99, 11, 7]\n",
      "\n",
      " numero de pares:\n",
      "17\n",
      "\n",
      " numero de impares:\n",
      "23\n",
      "[92, 88, 86, 80, 72, 64, 50, 46, 44, 42, 40, 36, 26, 22, 16, 10, 6]\n",
      "[7, 7, 7, 9, 11, 11, 13, 19, 21, 23, 27, 31, 45, 45, 45, 59, 63, 69, 89, 89, 93, 93, 99]\n"
     ]
    }
   ],
   "source": [
    "paroimpar(lista2)\n",
    "\n"
   ]
  },
  {
   "cell_type": "code",
   "execution_count": 85,
   "metadata": {},
   "outputs": [
    {
     "name": "stdout",
     "output_type": "stream",
     "text": [
      "\n",
      " Lista  original en orden(menor a mayor):\n",
      "[6, 7, 7, 7, 9, 10, 11, 11, 13, 16, 19, 21, 22, 23, 26, 27, 31, 36, 40, 42, 44, 45, 45, 45, 46, 50, 59, 63, 64, 69, 72, 80, 86, 88, 89, 89, 92, 93, 93, 99]\n",
      "\n",
      " Lista  original en orden(mayor a menor):\n",
      "[99, 93, 93, 92, 89, 89, 88, 86, 80, 72, 69, 64, 63, 59, 50, 46, 45, 45, 45, 44, 42, 40, 36, 31, 27, 26, 23, 22, 21, 19, 16, 13, 11, 11, 10, 9, 7, 7, 7, 6]\n",
      "\n",
      " numero de elementos en la lista:\n",
      "40\n",
      "\n",
      " numero más pequeño de la lista:\n",
      "6\n",
      "\n",
      " numero más grande de la lista:\n",
      "99\n"
     ]
    }
   ],
   "source": [
    "lista2.sort()\n",
    "print(\"\\n Lista  original en orden(menor a mayor):\")\n",
    "print(lista2)\n",
    "\n",
    "lista2.reverse()\n",
    "print(\"\\n Lista  original en orden(mayor a menor):\")\n",
    "print(lista2)\n",
    "\n",
    "print(\"\\n numero de elementos en la lista:\")\n",
    "print(len(lista2))\n",
    "\n",
    "print(\"\\n numero más pequeño de la lista:\")\n",
    "print(min(lista2))\n",
    "\n",
    "print(\"\\n numero más grande de la lista:\")\n",
    "print(max(lista2))\n"
   ]
  },
  {
   "cell_type": "code",
   "execution_count": 135,
   "metadata": {},
   "outputs": [
    {
     "name": "stdout",
     "output_type": "stream",
     "text": [
      "[22, 20, 75, 43, 13, 8]\n",
      "\n",
      " lista de menor a mayor\n",
      "[8, 13, 20, 22, 43, 75]\n",
      "dict_keys(['Wendy', 'Juan', 'Tita', 'Papá', 'Cris', 'Helena'])\n",
      "dict_keys(['Wendy', 'Juan', 'Tita', 'Papá', 'Cris', 'Helena'])\n",
      "dict_keys(['Wendy', 'Juan', 'Tita', 'Papá', 'Cris', 'Helena'])\n",
      "dict_keys(['Wendy', 'Juan', 'Tita', 'Papá', 'Cris', 'Helena'])\n",
      "dict_keys(['Wendy', 'Juan', 'Tita', 'Papá', 'Cris', 'Helena'])\n",
      "{'Wendy': 22, 'Juan': 20, 'Tita': 75, 'Papá': 43, 'Cris': 13, 'Helena': 8, 'Kary': 33, 'Aby': 41}\n"
     ]
    }
   ],
   "source": [
    "#DICCIONARIOS\n",
    "dicc={'Wendy':22,'Juan':20,'Tita':75,'Papá':43,'Cris':13,'Helena':8}\n",
    "lista4=[]\n",
    "lista4.append(dicc['Wendy'])\n",
    "lista4.append(dicc['Juan'])\n",
    "lista4.append(dicc['Tita'])\n",
    "lista4.append(dicc['Papá'])\n",
    "lista4.append(dicc['Cris'])\n",
    "lista4.append(dicc['Helena'])\n",
    "print(lista4)\n",
    "lista4.sort()\n",
    "print(\"\\n lista de menor a mayor\")\n",
    "print(lista4)\n",
    "\n",
    "for i in range(0,5):\n",
    "    print(dicc.keys())\n",
    "    \n",
    "dicc['Kary']=33\n",
    "dicc['Aby']=41\n",
    "print(dicc)"
   ]
  },
  {
   "cell_type": "code",
   "execution_count": 111,
   "metadata": {},
   "outputs": [
    {
     "name": "stdout",
     "output_type": "stream",
     "text": [
      "{0, 1, 2, 3, 4, 5, 6, 7, 8, 9, 10, 11, 12, 13, 14, 15, 16, 17, 18, 19, 20, 21, 22, 23, 24, 25}\n",
      "\n",
      " Numero de elementos:\n",
      "26\n",
      "[1, 9, 18, 7, 7]\n",
      "\n",
      " Se encuentra el valor de la lista en el set?: True\n",
      "\n",
      " Se encuentra el valor de la lista en el set?: True\n",
      "\n",
      " Se encuentra el valor de la lista en el set?: True\n",
      "\n",
      " Se encuentra el valor de la lista en el set?: True\n",
      "\n",
      " Se encuentra el valor de la lista en el set?: True\n"
     ]
    }
   ],
   "source": [
    "#SETS\n",
    "sett=set()\n",
    "for i in range(1,101):\n",
    "    na=random.randint(0, 25)\n",
    "    sett.add(na)\n",
    "print(sett)\n",
    "\n",
    "print(\"\\n Numero de elementos:\")\n",
    "print(len(sett))\n",
    "\n",
    "lista3=[]\n",
    "for i in range(0,5):\n",
    "    aa=random.randint(0, 25)\n",
    "    lista3.append(aa)\n",
    "    \n",
    "print(lista3)  \n",
    "for i in range(0,5):\n",
    "    print(\"\\n Se encuentra el valor de la lista en el set?:\",lista3[i] in sett)\n",
    "\n",
    "\n"
   ]
  },
  {
   "cell_type": "code",
   "execution_count": null,
   "metadata": {},
   "outputs": [],
   "source": []
  },
  {
   "cell_type": "code",
   "execution_count": null,
   "metadata": {},
   "outputs": [],
   "source": []
  }
 ],
 "metadata": {
  "kernelspec": {
   "display_name": "Python 3",
   "language": "python",
   "name": "python3"
  },
  "language_info": {
   "codemirror_mode": {
    "name": "ipython",
    "version": 3
   },
   "file_extension": ".py",
   "mimetype": "text/x-python",
   "name": "python",
   "nbconvert_exporter": "python",
   "pygments_lexer": "ipython3",
   "version": "3.8.3"
  }
 },
 "nbformat": 4,
 "nbformat_minor": 4
}
